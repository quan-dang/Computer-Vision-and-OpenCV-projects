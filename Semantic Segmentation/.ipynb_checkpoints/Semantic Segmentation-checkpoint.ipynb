{
 "cells": [
  {
   "cell_type": "markdown",
   "metadata": {},
   "source": [
    "# Semantic Segmentation\n",
    "\n",
    "## Dataset\n",
    "The project use [this dataset](https://www.dropbox.com/s/0pigmmmynbf9xwq/dataset1.zip) to carry out semantic segmentation. Please download an extract it to dataset folder under the root path of the project before moving on."
   ]
  },
  {
   "cell_type": "code",
   "execution_count": 1,
   "metadata": {},
   "outputs": [
    {
     "name": "stderr",
     "output_type": "stream",
     "text": [
      "Using TensorFlow backend.\n"
     ]
    }
   ],
   "source": [
    "from keras.applications.vgg16 import VGG16 as PTModel\n",
    "import glob, os\n",
    "import cv2\n",
    "from scipy import ndimage\n",
    "import matplotlib.pyplot as plt\n",
    "%matplotlib inline"
   ]
  },
  {
   "cell_type": "code",
   "execution_count": 2,
   "metadata": {},
   "outputs": [],
   "source": [
    "# initialize paths to the datasets\n",
    "base_dir = \"dataset/\"\n",
    "seg_dir = base_dir + \"/annotations_prepped_train/\"\n",
    "img_dir = base_dir +\"/images_prepped_train/\""
   ]
  },
  {
   "cell_type": "code",
   "execution_count": 3,
   "metadata": {},
   "outputs": [
    {
     "data": {
      "text/plain": [
       "['dataset//images_prepped_train\\\\0001TP_006690.png',\n",
       " 'dataset//images_prepped_train\\\\0001TP_006720.png',\n",
       " 'dataset//images_prepped_train\\\\0001TP_006750.png',\n",
       " 'dataset//images_prepped_train\\\\0001TP_006780.png',\n",
       " 'dataset//images_prepped_train\\\\0001TP_006810.png']"
      ]
     },
     "execution_count": 3,
     "metadata": {},
     "output_type": "execute_result"
    }
   ],
   "source": [
    "all_img_paths = glob.glob(os.path.join(img_dir + \"*.png\"))\n",
    "all_img_paths[:5]"
   ]
  },
  {
   "cell_type": "code",
   "execution_count": 4,
   "metadata": {},
   "outputs": [
    {
     "data": {
      "text/plain": [
       "'0001TP_006690.png'"
      ]
     },
     "execution_count": 4,
     "metadata": {},
     "output_type": "execute_result"
    }
   ],
   "source": [
    "all_img_paths[0].split('\\\\')[-1]"
   ]
  },
  {
   "cell_type": "code",
   "execution_count": 5,
   "metadata": {},
   "outputs": [],
   "source": [
    "# initialize list of images and their corresponding masks\n",
    "imgs = []\n",
    "imgs_mask = []\n",
    "\n",
    "count = 0"
   ]
  },
  {
   "cell_type": "code",
   "execution_count": null,
   "metadata": {},
   "outputs": [],
   "source": [
    "for i in range(len(all_img_paths)):\n",
    "    img = cv2.imread(all_img_paths[i])\n",
    "    img = cv2.resize(img, (224, 224))\n",
    "    \n",
    "    mask_path = seg_dir + all_img_paths[i].split('\\\\')[-1]\n",
    "    img_mask = ndimage.imread\n",
    "    img_mask = cv2.resize(img_mask, (224, 224))\n",
    "    \n",
    "    imgs.append(img)\n",
    "    imgs_mask.append(img_mask)\n",
    "    \n",
    "    if (i%100 == 0):\n",
    "        print(\"Loaded {} images\".format(i))"
   ]
  }
 ],
 "metadata": {
  "kernelspec": {
   "display_name": "Python 3",
   "language": "python",
   "name": "python3"
  },
  "language_info": {
   "codemirror_mode": {
    "name": "ipython",
    "version": 3
   },
   "file_extension": ".py",
   "mimetype": "text/x-python",
   "name": "python",
   "nbconvert_exporter": "python",
   "pygments_lexer": "ipython3",
   "version": "3.7.3"
  }
 },
 "nbformat": 4,
 "nbformat_minor": 2
}
